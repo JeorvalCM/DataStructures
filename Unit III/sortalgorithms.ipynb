{
 "cells": [
  {
   "cell_type": "markdown",
   "metadata": {},
   "source": [
    "# Selection sort"
   ]
  },
  {
   "cell_type": "code",
   "execution_count": 6,
   "metadata": {},
   "outputs": [],
   "source": [
    "def selection_sort(lista):\n",
    "    n = len(lista)\n",
    "    #nothing to sort\n",
    "    if n < 2:\n",
    "        return\n",
    "    \n",
    "    for i in range(0,n-1):\n",
    "        #find the smallest in unsorted part of array\n",
    "        smallest = i\n",
    "        for j in range(i,n):\n",
    "            if lista[smallest] > lista[j]:\n",
    "                smallest = j\n",
    "        #put it at front of unsorted part of array (swap)\n",
    "        temp = lista[i]\n",
    "        lista[i] = lista[smallest]\n",
    "        lista[smallest] = temp"
   ]
  },
  {
   "cell_type": "code",
   "execution_count": 7,
   "metadata": {},
   "outputs": [],
   "source": [
    "lista2 = [9,1,2,6,4,5]\n",
    "selection_sort(lista2)"
   ]
  },
  {
   "cell_type": "code",
   "execution_count": 8,
   "metadata": {},
   "outputs": [
    {
     "data": {
      "text/plain": [
       "[1, 2, 4, 5, 6, 9]"
      ]
     },
     "execution_count": 8,
     "metadata": {},
     "output_type": "execute_result"
    }
   ],
   "source": [
    "lista2"
   ]
  },
  {
   "cell_type": "markdown",
   "metadata": {},
   "source": [
    "# Insertion sort"
   ]
  },
  {
   "cell_type": "code",
   "execution_count": 2,
   "metadata": {},
   "outputs": [],
   "source": [
    "def insertion_sort(lista):\n",
    "    n = len(lista)\n",
    "    #nothing to sort\n",
    "    if n < 2:\n",
    "        return\n",
    "    for i in range(1,n):\n",
    "        #take next item at fron of unsorted part of array\n",
    "        temp = lista[i]\n",
    "        # and insert it in appropiate location in sorted part of array\n",
    "        j = i\n",
    "        while True:\n",
    "            if lista[j-1] < temp and j > 0:\n",
    "                #ship element forward\n",
    "                lista[j] = lista[j-1]\n",
    "                j-=1\n",
    "            else:\n",
    "                break\n",
    "        lista[j] = temp"
   ]
  },
  {
   "cell_type": "code",
   "execution_count": 3,
   "metadata": {},
   "outputs": [],
   "source": [
    "lista3 = [9,1,2,6,4,5]\n",
    "insertion_sort(lista3)"
   ]
  },
  {
   "cell_type": "code",
   "execution_count": 4,
   "metadata": {},
   "outputs": [
    {
     "data": {
      "text/plain": [
       "[9, 6, 5, 4, 2, 1]"
      ]
     },
     "execution_count": 4,
     "metadata": {},
     "output_type": "execute_result"
    }
   ],
   "source": [
    "lista3"
   ]
  },
  {
   "cell_type": "markdown",
   "metadata": {},
   "source": [
    "# Bubble sort"
   ]
  },
  {
   "cell_type": "code",
   "execution_count": 14,
   "metadata": {},
   "outputs": [],
   "source": [
    "def bubble_sort(lista):\n",
    "    n = len(lista)\n",
    "    swapped = True\n",
    "    #nothing to sort\n",
    "    if n < 2:\n",
    "        return\n",
    "    i = 0\n",
    "    while True:\n",
    "        if swapped and i<(n-1):\n",
    "            #if no elements swapped in an iteration\n",
    "            #then elements in order: done\n",
    "            for j in range(0,n-1):\n",
    "                swapped = False\n",
    "                if lista[j] > lista[j+1]:\n",
    "                    temp = lista[j]\n",
    "                    lista[j] = lista[j+1]\n",
    "                    lista[j+1] = temp\n",
    "                    swapped = True\n",
    "        else:\n",
    "            break"
   ]
  },
  {
   "cell_type": "code",
   "execution_count": 20,
   "metadata": {},
   "outputs": [],
   "source": [
    "lista4 = [9,1,2,6,4,5,11,23,7]\n",
    "bubble_sort(lista4)"
   ]
  },
  {
   "cell_type": "code",
   "execution_count": 21,
   "metadata": {},
   "outputs": [
    {
     "data": {
      "text/plain": [
       "[1, 2, 4, 5, 6, 9, 7, 11, 23]"
      ]
     },
     "execution_count": 21,
     "metadata": {},
     "output_type": "execute_result"
    }
   ],
   "source": [
    "lista4"
   ]
  },
  {
   "cell_type": "markdown",
   "metadata": {},
   "source": [
    "# merge sort"
   ]
  },
  {
   "cell_type": "code",
   "execution_count": 29,
   "metadata": {},
   "outputs": [],
   "source": [
    "# Python program for implementation of MergeSort \n",
    "def merge_sort(arr): \n",
    "    if len(arr) >1: \n",
    "        mid = int(len(arr)/2) #Finding the mid of the array \n",
    "        L = arr[:mid] # Dividing the array elements  \n",
    "        R = arr[mid:] # into 2 halves \n",
    "  \n",
    "        mergeSort(L) # Sorting the first half \n",
    "        mergeSort(R) # Sorting the second half \n",
    "  \n",
    "        i = j = k = 0\n",
    "          \n",
    "        # Copy data to temp arrays L[] and R[] \n",
    "        while i < len(L) and j < len(R): \n",
    "            if L[i] < R[j]: \n",
    "                arr[k] = L[i] \n",
    "                i+=1\n",
    "            else: \n",
    "                arr[k] = R[j] \n",
    "                j+=1\n",
    "            k+=1\n",
    "          \n",
    "        # Checking if any element was left \n",
    "        while i < len(L): \n",
    "            arr[k] = L[i] \n",
    "            i+=1\n",
    "            k+=1\n",
    "          \n",
    "        while j < len(R): \n",
    "            arr[k] = R[j] \n",
    "            j+=1\n",
    "            k+=1"
   ]
  },
  {
   "cell_type": "code",
   "execution_count": 30,
   "metadata": {},
   "outputs": [],
   "source": [
    "list1 = [2,3,4,6,1,0,9]\n",
    "merge_sort(list1)"
   ]
  },
  {
   "cell_type": "code",
   "execution_count": 31,
   "metadata": {},
   "outputs": [
    {
     "data": {
      "text/plain": [
       "[0, 1, 2, 3, 4, 6, 9]"
      ]
     },
     "execution_count": 31,
     "metadata": {},
     "output_type": "execute_result"
    }
   ],
   "source": [
    "list1"
   ]
  },
  {
   "cell_type": "markdown",
   "metadata": {},
   "source": [
    "# quick sort algorithm"
   ]
  },
  {
   "cell_type": "code",
   "execution_count": 1,
   "metadata": {},
   "outputs": [],
   "source": [
    "def swaped(arr, i, j):\n",
    "    temp = arr[i]\n",
    "    arr[i] = arr[j]\n",
    "    arr[j] = temp\n",
    "\n",
    "def partition(arr,low,high):\n",
    "    pivot = arr[high]\n",
    "    i = low - 1\n",
    "    for j in range(low, high):\n",
    "        if arr[j] < pivot:\n",
    "            i+=1\n",
    "            swaped(arr,i,j)\n",
    "            \n",
    "    swaped(arr,i+1,high)\n",
    "    return i+1  \n",
    "\n",
    "def quick_sort(arr, low, high):\n",
    "    if low < high:    \n",
    "        \"\"\" pi is partitioning index, arr[p] is now  \n",
    "        at right place \"\"\"\n",
    "        pi = partition(arr, low, high)\n",
    "  \n",
    "        #Separately sort elements before  \n",
    "        #partition and after partition  \n",
    "        quick_sort(arr, low, pi - 1)  \n",
    "        quick_sort(arr, pi + 1, high)   "
   ]
  },
  {
   "cell_type": "code",
   "execution_count": 2,
   "metadata": {},
   "outputs": [],
   "source": [
    "arr = [1,0,5,3,8,9,7,20,19]\n",
    "quick_sort(arr,0,(len(arr)-1))"
   ]
  },
  {
   "cell_type": "code",
   "execution_count": 3,
   "metadata": {},
   "outputs": [
    {
     "data": {
      "text/plain": [
       "[0, 1, 3, 5, 7, 8, 9, 19, 20]"
      ]
     },
     "execution_count": 3,
     "metadata": {},
     "output_type": "execute_result"
    }
   ],
   "source": [
    "arr"
   ]
  },
  {
   "cell_type": "markdown",
   "metadata": {},
   "source": [
    "# shell sort"
   ]
  },
  {
   "cell_type": "code",
   "execution_count": 7,
   "metadata": {},
   "outputs": [],
   "source": [
    "def shell_sort(arr):\n",
    "    n = len(arr)\n",
    "    gap = int(n/2)\n",
    "    while gap > 0:\n",
    "        \n",
    "        for i in range(gap,n):\n",
    "            temp = arr[i]\n",
    "            j = i\n",
    "            while j >= gap and arr[j-gap] > temp:\n",
    "                arr[j] = arr[j-gap]\n",
    "                j-=gap\n",
    "                \n",
    "            arr[j] = temp\n",
    "        gap = int(gap/2)"
   ]
  },
  {
   "cell_type": "code",
   "execution_count": 8,
   "metadata": {},
   "outputs": [],
   "source": [
    "list3 = [5,1,2,4,8,7,9]\n",
    "shell_sort(list3)"
   ]
  },
  {
   "cell_type": "code",
   "execution_count": 9,
   "metadata": {},
   "outputs": [
    {
     "data": {
      "text/plain": [
       "[1, 2, 4, 5, 7, 8, 9]"
      ]
     },
     "execution_count": 9,
     "metadata": {},
     "output_type": "execute_result"
    }
   ],
   "source": [
    "list3"
   ]
  },
  {
   "cell_type": "code",
   "execution_count": null,
   "metadata": {},
   "outputs": [],
   "source": []
  }
 ],
 "metadata": {
  "kernelspec": {
   "display_name": "Python 3",
   "language": "python",
   "name": "python3"
  },
  "language_info": {
   "codemirror_mode": {
    "name": "ipython",
    "version": 3
   },
   "file_extension": ".py",
   "mimetype": "text/x-python",
   "name": "python",
   "nbconvert_exporter": "python",
   "pygments_lexer": "ipython3",
   "version": "3.6.8"
  }
 },
 "nbformat": 4,
 "nbformat_minor": 4
}
