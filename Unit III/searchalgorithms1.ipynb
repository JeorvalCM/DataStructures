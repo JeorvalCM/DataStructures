{
 "cells": [
  {
   "cell_type": "markdown",
   "metadata": {},
   "source": [
    "# sequential search"
   ]
  },
  {
   "cell_type": "code",
   "execution_count": 1,
   "metadata": {},
   "outputs": [],
   "source": [
    "def seq_search(array, encontrado, dato):\n",
    "    n = len(array)\n",
    "    \"\"\"\n",
    "    array, encontrado are list\n",
    "    n and dato are int\n",
    "    \"\"\"\n",
    "    j = 0\n",
    "    for i in range(n):\n",
    "        if dato == array[i]:\n",
    "            encontrado.append(i)\n",
    "            #elementos encontrados\n",
    "            j+=1"
   ]
  },
  {
   "cell_type": "code",
   "execution_count": 2,
   "metadata": {},
   "outputs": [],
   "source": [
    "lista2 = [1,2,2,3,4,5,6,7,8,9,10]\n",
    "encontrado3 = []\n",
    "seq_search(lista2, encontrado3, 2)"
   ]
  },
  {
   "cell_type": "code",
   "execution_count": 3,
   "metadata": {},
   "outputs": [
    {
     "data": {
      "text/plain": [
       "[1, 2]"
      ]
     },
     "execution_count": 3,
     "metadata": {},
     "output_type": "execute_result"
    }
   ],
   "source": [
    "encontrado3"
   ]
  },
  {
   "cell_type": "code",
   "execution_count": 4,
   "metadata": {},
   "outputs": [],
   "source": [
    "lista3 = [1,3,4,2,5,2,6,7,8]\n",
    "encontrado2 = []\n",
    "seq_search(lista3, encontrado2, 2)"
   ]
  },
  {
   "cell_type": "code",
   "execution_count": 5,
   "metadata": {},
   "outputs": [
    {
     "data": {
      "text/plain": [
       "[3, 5]"
      ]
     },
     "execution_count": 5,
     "metadata": {},
     "output_type": "execute_result"
    }
   ],
   "source": [
    "encontrado2"
   ]
  },
  {
   "cell_type": "markdown",
   "metadata": {},
   "source": [
    "# Binary search"
   ]
  },
  {
   "cell_type": "code",
   "execution_count": 6,
   "metadata": {},
   "outputs": [],
   "source": [
    "def binary_search(array, dato):\n",
    "    n = len(array)\n",
    "    sup = n-1\n",
    "    inf = 0\n",
    "    centro = 0\n",
    "    while inf <= sup:\n",
    "        centro = (inf+sup)//2\n",
    "        if array[centro] == dato:\n",
    "            return centro\n",
    "        elif dato < array[centro]:\n",
    "            sup = centro - 1\n",
    "        else:\n",
    "            inf = centro + 1\n",
    "    return -1"
   ]
  },
  {
   "cell_type": "code",
   "execution_count": 7,
   "metadata": {},
   "outputs": [
    {
     "name": "stdout",
     "output_type": "stream",
     "text": [
      "0\n",
      "1\n",
      "2\n",
      "3\n",
      "4\n",
      "5\n"
     ]
    }
   ],
   "source": [
    "lista4 = [1,5,7,12,20,50]\n",
    "for i in lista4:\n",
    "    print(binary_search(lista4,i))"
   ]
  },
  {
   "cell_type": "markdown",
   "metadata": {},
   "source": [
    "# Interpolation"
   ]
  },
  {
   "cell_type": "code",
   "execution_count": 8,
   "metadata": {},
   "outputs": [],
   "source": [
    "def inter_search(arr, x):\n",
    "    n = len(arr)\n",
    "    #index of two corners\n",
    "    lo = 0\n",
    "    hi = n-1\n",
    "    while lo <= hi and x>= arr[lo] and x<=arr[hi]:\n",
    "        if lo == hi:\n",
    "            if arr[lo] == x:\n",
    "                return lo\n",
    "            else:\n",
    "                return -1\n",
    "        pos = int(lo + ((hi-lo)/(arr[hi]-arr[lo]) * (x-arr[lo])))\n",
    "        if arr[pos] == x:\n",
    "            return pos\n",
    "        if arr[pos] < x:\n",
    "            lo = pos +1\n",
    "        else:\n",
    "            hi= pos - 1\n",
    "            \n",
    "    return -1 "
   ]
  },
  {
   "cell_type": "code",
   "execution_count": 10,
   "metadata": {},
   "outputs": [
    {
     "data": {
      "text/plain": [
       "5"
      ]
     },
     "execution_count": 10,
     "metadata": {},
     "output_type": "execute_result"
    }
   ],
   "source": [
    "list1 = [1,2,3,4,5,6]\n",
    "inter_search(list1,6)"
   ]
  },
  {
   "cell_type": "code",
   "execution_count": null,
   "metadata": {},
   "outputs": [],
   "source": []
  }
 ],
 "metadata": {
  "kernelspec": {
   "display_name": "Python 3",
   "language": "python",
   "name": "python3"
  },
  "language_info": {
   "codemirror_mode": {
    "name": "ipython",
    "version": 3
   },
   "file_extension": ".py",
   "mimetype": "text/x-python",
   "name": "python",
   "nbconvert_exporter": "python",
   "pygments_lexer": "ipython3",
   "version": "3.6.8"
  }
 },
 "nbformat": 4,
 "nbformat_minor": 4
}
